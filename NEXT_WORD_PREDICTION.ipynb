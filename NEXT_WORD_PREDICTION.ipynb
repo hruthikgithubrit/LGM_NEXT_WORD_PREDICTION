{
  "nbformat": 4,
  "nbformat_minor": 0,
  "metadata": {
    "colab": {
      "provenance": [],
      "authorship_tag": "ABX9TyPDwUxNBzHspORbCkFm4Q0T",
      "include_colab_link": true
    },
    "kernelspec": {
      "name": "python3",
      "display_name": "Python 3"
    },
    "language_info": {
      "name": "python"
    }
  },
  "cells": [
    {
      "cell_type": "markdown",
      "metadata": {
        "id": "view-in-github",
        "colab_type": "text"
      },
      "source": [
        "<a href=\"https://colab.research.google.com/github/hruthikgithubrit/LGM_NEXT_WORD_PREDICTION/blob/main/NEXT_WORD_PREDICTION.ipynb\" target=\"_parent\"><img src=\"https://colab.research.google.com/assets/colab-badge.svg\" alt=\"Open In Colab\"/></a>"
      ]
    },
    {
      "cell_type": "markdown",
      "source": [
        "Full Name: Hruthik Anugula\n",
        "\n",
        "Email: hruthikanugula@gmail.com\n",
        "\n",
        "Lets-grow-More. Data Science Project.\n",
        "\n",
        "Explanation:\n",
        "Import the libraries.\n",
        "\n",
        "Load the datasets.\n",
        "\n",
        "Now we need to preprocess the data.\n",
        "\n",
        "Generating features and labels.\n",
        "\n",
        "Build and train the model.\n",
        "\n",
        "Then save and load the model.\n",
        "\n",
        "Now we evalute the model.\n",
        "\n",
        "Then validate the trainning and testing dataset.\n",
        "\n",
        "Now we can predict the next word."
      ],
      "metadata": {
        "id": "irJlqsep2-yj"
      }
    },
    {
      "cell_type": "code",
      "source": [
        "import numpy as np\n",
        "np.random.seed(42)\n",
        "import tensorflow as tf\n",
        "tf.random.set_seed(42)\n",
        "import warnings as wg\n",
        "wg.filterwarnings(\"ignore\")\n",
        "from tensorflow.keras.models import Sequential, load_model\n",
        "from tensorflow.keras.layers import Dense, Activation\n",
        "from tensorflow.keras.layers import LSTM, Dropout\n",
        "from tensorflow.keras.layers import TimeDistributed\n",
        "from tensorflow.keras.layers import Dense, Activation, Dropout, RepeatVector\n",
        "from tensorflow.keras.optimizers import  RMSprop\n",
        "import matplotlib.pyplot as plt\n",
        "import pickle\n",
        "import heapq"
      ],
      "metadata": {
        "id": "s9D_ff5k3GtL"
      },
      "execution_count": null,
      "outputs": []
    },
    {
      "cell_type": "markdown",
      "source": [
        "LOAD THE DATASET"
      ],
      "metadata": {
        "id": "ToslKHio3T2N"
      }
    },
    {
      "cell_type": "code",
      "source": [
        "text = open('1661-0.txt', encoding=\"utf8\").read().lower()\n",
        "print('corpus length:', len(text))"
      ],
      "metadata": {
        "colab": {
          "base_uri": "https://localhost:8080/"
        },
        "id": "rP2hJTlm3Uzn",
        "outputId": "a9a4dd70-8e9b-4eeb-9796-db3b5b33da54"
      },
      "execution_count": null,
      "outputs": [
        {
          "output_type": "stream",
          "name": "stdout",
          "text": [
            "corpus length: 581888\n"
          ]
        }
      ]
    },
    {
      "cell_type": "markdown",
      "source": [
        "DATA PREPROCESSING"
      ],
      "metadata": {
        "id": "gyJchLcz3ler"
      }
    },
    {
      "cell_type": "code",
      "source": [
        "character = sorted(list(set(text)))\n",
        "char_indices = dict((c, i) for i, c in enumerate(character))\n",
        "indices_char = dict((i, c) for i, c in enumerate(character))\n",
        "\n",
        "print(f'unique chars: {len(character)}')"
      ],
      "metadata": {
        "colab": {
          "base_uri": "https://localhost:8080/"
        },
        "id": "IhL4CFjo3m8L",
        "outputId": "59ed5000-c6df-4849-e96d-398f0584fb61"
      },
      "execution_count": null,
      "outputs": [
        {
          "output_type": "stream",
          "name": "stdout",
          "text": [
            "unique chars: 73\n"
          ]
        }
      ]
    },
    {
      "cell_type": "code",
      "source": [
        "#chunk 40 characters with 3 sequences\n",
        "seq_len = 40\n",
        "step = 3\n",
        "sentences = []\n",
        "next_chars = []\n",
        "for i in range(0, len(text) - seq_len, step):\n",
        "    sentences.append(text[i: i + seq_len ])\n",
        "    next_chars.append(text[i + seq_len])\n",
        "print(f'num training examples: {len(sentences)}')"
      ],
      "metadata": {
        "colab": {
          "base_uri": "https://localhost:8080/"
        },
        "id": "B6C_ghjc3trN",
        "outputId": "0ab527de-bd79-4824-b2c6-23b0372358da"
      },
      "execution_count": null,
      "outputs": [
        {
          "output_type": "stream",
          "name": "stdout",
          "text": [
            "num training examples: 193950\n"
          ]
        }
      ]
    },
    {
      "cell_type": "markdown",
      "source": [
        "GENERATING OUR FEATURES AND LABELS"
      ],
      "metadata": {
        "id": "TxP7o5Jr3vB-"
      }
    },
    {
      "cell_type": "code",
      "source": [
        "X = np.zeros((len(sentences), seq_len, len(character)), dtype=np.bool)\n",
        "y = np.zeros((len(sentences), len(character)), dtype=np.bool)\n",
        "for i, sentence in enumerate(sentences):\n",
        "    for t, char in enumerate(sentence):\n",
        "        X[i, t, char_indices[char]] = 1\n",
        "    y[i, char_indices[next_chars[i]]] = 1\n",
        "\n",
        "sentences[124]\n",
        "next_chars[100]"
      ],
      "metadata": {
        "colab": {
          "base_uri": "https://localhost:8080/",
          "height": 35
        },
        "id": "Y66jH5rv3yPD",
        "outputId": "cc8268b8-8e9f-4f00-ad15-0e909a82d0e9"
      },
      "execution_count": null,
      "outputs": [
        {
          "output_type": "execute_result",
          "data": {
            "text/plain": [
              "'e'"
            ],
            "application/vnd.google.colaboratory.intrinsic+json": {
              "type": "string"
            }
          },
          "metadata": {},
          "execution_count": 5
        }
      ]
    },
    {
      "cell_type": "code",
      "source": [
        "#one hot encoded data\n",
        "X[0][0]"
      ],
      "metadata": {
        "colab": {
          "base_uri": "https://localhost:8080/"
        },
        "id": "dajhOqEV34HE",
        "outputId": "ee7ecefb-c06e-49c6-dc33-1e5b5de4c03c"
      },
      "execution_count": null,
      "outputs": [
        {
          "output_type": "execute_result",
          "data": {
            "text/plain": [
              "array([False, False, False, False, False, False, False, False, False,\n",
              "       False, False, False, False, False, False, False, False, False,\n",
              "       False, False, False, False, False, False, False, False, False,\n",
              "       False, False, False, False, False, False, False, False, False,\n",
              "       False, False, False, False, False, False, False, False, False,\n",
              "       False, False, False, False, False, False, False, False, False,\n",
              "       False, False, False, False, False, False, False, False, False,\n",
              "       False, False, False, False, False, False, False, False, False,\n",
              "        True])"
            ]
          },
          "metadata": {},
          "execution_count": 6
        }
      ]
    },
    {
      "cell_type": "code",
      "source": [
        "#one hot encoded data\n",
        "y[0]"
      ],
      "metadata": {
        "colab": {
          "base_uri": "https://localhost:8080/"
        },
        "id": "XyvFynpU37Xr",
        "outputId": "432cf925-37a3-4cde-aa6c-6b1496c83d93"
      },
      "execution_count": null,
      "outputs": [
        {
          "output_type": "execute_result",
          "data": {
            "text/plain": [
              "array([False, False, False, False, False, False, False, False, False,\n",
              "       False, False, False, False, False, False, False, False, False,\n",
              "       False, False, False, False, False, False, False, False, False,\n",
              "       False, False, False, False, False, False, False, False, False,\n",
              "       False, False, False, False, False, False, False, False, False,\n",
              "       False, False, False, False, False, False,  True, False, False,\n",
              "       False, False, False, False, False, False, False, False, False,\n",
              "       False, False, False, False, False, False, False, False, False,\n",
              "       False])"
            ]
          },
          "metadata": {},
          "execution_count": 7
        }
      ]
    },
    {
      "cell_type": "code",
      "source": [
        "X.shape"
      ],
      "metadata": {
        "colab": {
          "base_uri": "https://localhost:8080/"
        },
        "id": "0Pwi6ZJM38K1",
        "outputId": "372e5933-4c9e-4ffc-84b4-244fa46e0692"
      },
      "execution_count": null,
      "outputs": [
        {
          "output_type": "execute_result",
          "data": {
            "text/plain": [
              "(193950, 40, 73)"
            ]
          },
          "metadata": {},
          "execution_count": 8
        }
      ]
    },
    {
      "cell_type": "code",
      "source": [
        "y.shape"
      ],
      "metadata": {
        "colab": {
          "base_uri": "https://localhost:8080/"
        },
        "id": "S3iHJc5W3_K0",
        "outputId": "744f3501-0f4e-471a-83f7-cbeea5057adf"
      },
      "execution_count": null,
      "outputs": [
        {
          "output_type": "execute_result",
          "data": {
            "text/plain": [
              "(193950, 73)"
            ]
          },
          "metadata": {},
          "execution_count": 9
        }
      ]
    },
    {
      "cell_type": "markdown",
      "source": [
        "BUILD THE MODEL"
      ],
      "metadata": {
        "id": "hAyved8_4Bjy"
      }
    },
    {
      "cell_type": "code",
      "source": [
        "model = Sequential()\n",
        "model.add(LSTM(500, input_shape=(seq_len, len(character))))\n",
        "model.add(Dense(len(character)))\n",
        "model.add(Activation('softmax'))"
      ],
      "metadata": {
        "id": "blX3ceJk4FF-"
      },
      "execution_count": null,
      "outputs": []
    },
    {
      "cell_type": "code",
      "source": [
        "model.summary()"
      ],
      "metadata": {
        "colab": {
          "base_uri": "https://localhost:8080/"
        },
        "id": "Y6FFeqZl4IcE",
        "outputId": "69facb49-8131-48c9-d2c1-d134634ae270"
      },
      "execution_count": null,
      "outputs": [
        {
          "output_type": "stream",
          "name": "stdout",
          "text": [
            "Model: \"sequential\"\n",
            "_________________________________________________________________\n",
            " Layer (type)                Output Shape              Param #   \n",
            "=================================================================\n",
            " lstm (LSTM)                 (None, 500)               1148000   \n",
            "                                                                 \n",
            " dense (Dense)               (None, 73)                36573     \n",
            "                                                                 \n",
            " activation (Activation)     (None, 73)                0         \n",
            "                                                                 \n",
            "=================================================================\n",
            "Total params: 1184573 (4.52 MB)\n",
            "Trainable params: 1184573 (4.52 MB)\n",
            "Non-trainable params: 0 (0.00 Byte)\n",
            "_________________________________________________________________\n"
          ]
        }
      ]
    },
    {
      "cell_type": "markdown",
      "source": [
        "TRAIN THE MODEL"
      ],
      "metadata": {
        "id": "AC4TXVRc4ROw"
      }
    },
    {
      "cell_type": "code",
      "source": [
        "optimizer = RMSprop(learning_rate=0.01)\n",
        "model.compile(loss='categorical_crossentropy', optimizer=optimizer, metrics=['accuracy'])\n",
        "history = model.fit(X, y,\n",
        "                    validation_split=0.01,\n",
        "                    batch_size=128,\n",
        "                    epochs=2,\n",
        "                    shuffle=True).history"
      ],
      "metadata": {
        "colab": {
          "base_uri": "https://localhost:8080/"
        },
        "id": "_zD5out64Ule",
        "outputId": "ea889a92-4960-40db-d01a-0d738968f180"
      },
      "execution_count": null,
      "outputs": [
        {
          "output_type": "stream",
          "name": "stdout",
          "text": [
            "Epoch 1/2\n",
            "1501/1501 [==============================] - 1311s 872ms/step - loss: 2.2009 - accuracy: 0.3656 - val_loss: 2.4080 - val_accuracy: 0.3340\n",
            "Epoch 2/2\n",
            "1501/1501 [==============================] - 1340s 893ms/step - loss: 1.7225 - accuracy: 0.4828 - val_loss: 2.1583 - val_accuracy: 0.4041\n"
          ]
        }
      ]
    },
    {
      "cell_type": "markdown",
      "source": [
        "SAVING MODEL"
      ],
      "metadata": {
        "id": "gH_FFnYM4b0a"
      }
    },
    {
      "cell_type": "code",
      "source": [
        "model.save('Downloads/nextword.h5')\n",
        "pickle.dump(history, open(\"history .p\", \"wb\"))"
      ],
      "metadata": {
        "id": "l-0_E2Xj4ccK"
      },
      "execution_count": null,
      "outputs": []
    },
    {
      "cell_type": "markdown",
      "source": [
        "LOADING MODEL"
      ],
      "metadata": {
        "id": "04OE9rmy4e_y"
      }
    },
    {
      "cell_type": "code",
      "source": [
        "model = load_model('Downloads/nextword.h5')\n",
        "history = pickle.load(open(\"history.p\", \"rb\"))"
      ],
      "metadata": {
        "id": "gjNRQWm_4h8J"
      },
      "execution_count": null,
      "outputs": []
    },
    {
      "cell_type": "markdown",
      "source": [
        "MODEL EVALUATION"
      ],
      "metadata": {
        "id": "NdgrK73l478x"
      }
    },
    {
      "cell_type": "code",
      "source": [
        "loss_and_acc=model.evaluate(X,y)\n",
        "print(\"Test Loss\", loss_and_acc[0])\n",
        "print(\"Test Accuracy\", loss_and_acc[1])"
      ],
      "metadata": {
        "colab": {
          "base_uri": "https://localhost:8080/"
        },
        "id": "6j5eJ4DR4--x",
        "outputId": "7bcd70a3-cf4c-4f22-bc55-487993758c8d"
      },
      "execution_count": null,
      "outputs": [
        {
          "output_type": "stream",
          "name": "stdout",
          "text": [
            "6061/6061 [==============================] - 605s 100ms/step - loss: 1.5942 - accuracy: 0.5137\n",
            "Test Loss 1.5942021608352661\n",
            "Test Accuracy 0.5136942267417908\n"
          ]
        }
      ]
    },
    {
      "cell_type": "code",
      "source": [
        "acc = history['accuracy']\n",
        "val_acc = history['val_accuracy']\n",
        "loss = history['loss']\n",
        "val_loss = history['val_loss']\n",
        "epochs = range(len(acc))\n",
        "\n",
        "\n",
        "fig, ax = plt.subplots(nrows=1, ncols=2, figsize=(20, 6))\n",
        "ax[0].plot(epochs, acc, 'y', label='Training accuracy')\n",
        "ax[0].plot(epochs, val_acc, 'g', label='Validation accuracy')\n",
        "ax[0].legend(loc=0)\n",
        "ax[1].plot(epochs, loss, 'y', label='Training loss')\n",
        "ax[1].plot(epochs, val_loss, 'g', label='Validation loss')\n",
        "ax[1].legend(loc=0)\n",
        "\n",
        "plt.suptitle('Training and validation')\n",
        "plt.show()"
      ],
      "metadata": {
        "colab": {
          "base_uri": "https://localhost:8080/",
          "height": 318
        },
        "id": "sGtbWlax5EwT",
        "outputId": "304b3e8d-54d1-4e02-8cf3-7ea00eb60323"
      },
      "execution_count": null,
      "outputs": [
        {
          "output_type": "display_data",
          "data": {
            "text/plain": [
              "<Figure size 2000x600 with 2 Axes>"
            ],
            "image/png": "[encoded data removed]"
          },
          "metadata": {}
        }
      ]
    },
    {
      "cell_type": "code",
      "source": [
        "def prepare_input(text):\n",
        "    x = np.zeros((1, seq_len, len(character)))\n",
        "    for t, char in enumerate(text):\n",
        "        x[0, t, char_indices[char]] = 1.\n",
        "\n",
        "    return x\n",
        "\n",
        "prepare_input(\"This is an example of input of our model\".lower())"
      ],
      "metadata": {
        "colab": {
          "base_uri": "https://localhost:8080/"
        },
        "id": "3hX1WST_5IWv",
        "outputId": "32013a29-474d-41ae-efd9-d35bc7dd230b"
      },
      "execution_count": null,
      "outputs": [
        {
          "data": {
            "text/plain": [
              "array([[[0., 0., 0., ..., 0., 0., 0.],\n",
              "        [0., 0., 0., ..., 0., 0., 0.],\n",
              "        [0., 0., 0., ..., 0., 0., 0.],\n",
              "        ...,\n",
              "        [0., 0., 0., ..., 0., 0., 0.],\n",
              "        [0., 0., 0., ..., 0., 0., 0.],\n",
              "        [0., 0., 0., ..., 0., 0., 0.]]])"
            ]
          },
          "execution_count": 17,
          "metadata": {},
          "output_type": "execute_result"
        }
      ]
    },
    {
      "cell_type": "code",
      "source": [
        "#functions to get next probable characters\n",
        "def sample(preds, top_n=3):\n",
        "    preds = np.asarray(preds).astype('float64')\n",
        "    preds = np.log(preds)\n",
        "    exp_preds = np.exp(preds)\n",
        "    preds = exp_preds / np.sum(exp_preds)\n",
        "\n",
        "    return heapq.nlargest(top_n, range(len(preds)), preds.take)"
      ],
      "metadata": {
        "id": "vau7GIs35MvO"
      },
      "execution_count": null,
      "outputs": []
    },
    {
      "cell_type": "code",
      "source": [
        "def predict_completion(text):\n",
        "    original_text = text\n",
        "    generated = text\n",
        "    completion = ''\n",
        "    while True:\n",
        "        x = prepare_input(text)\n",
        "        preds = model.predict(x, verbose=0)[0]\n",
        "        next_index = sample(preds, top_n=1)[0]\n",
        "        next_char = indices_char[next_index]\n",
        "        text = text[1:] + next_char\n",
        "        completion += next_char\n",
        "\n",
        "        if len(original_text + completion) + 2 > len(original_text) and next_char == ' ':\n",
        "            return completion"
      ],
      "metadata": {
        "id": "-NLYLws_5QEs"
      },
      "execution_count": null,
      "outputs": []
    },
    {
      "cell_type": "code",
      "source": [
        "def predict_completions(text, n=3):\n",
        "    x = prepare_input(text)\n",
        "    preds = model.predict(x, verbose=0)[0]\n",
        "    next_indices = sample(preds, n)\n",
        "    return [indices_char[idx] + predict_completion(text[1:] + indices_char[idx]) for idx in next_indices]"
      ],
      "metadata": {
        "id": "mDd2_uiy5RMW"
      },
      "execution_count": null,
      "outputs": []
    },
    {
      "cell_type": "markdown",
      "source": [
        "PREDICTION"
      ],
      "metadata": {
        "id": "3sdx9ENK5cAD"
      }
    },
    {
      "cell_type": "code",
      "source": [
        "quotes = [\n",
        "    \"It is not a lack of  love, but a  lack of friendship that makes unhappy marriages.\",\n",
        "    \"Recurrent neural network (RNN)is a type of artificial neural network which uses sequential data or time series data.\",\n",
        "    \"Machine learning is the science of getting computers to act without being explicitly programmed.\",\n",
        "    \"Deep learning is subset of machine learning,which is essentially a neural network with three or more layers.\",\n",
        "    \"The goal of AI is to  make a  compter like humans to solve complex problems.\",\n",
        "    \"Statistics are defined as numerical data, and is the field of math that deals with the collection, tabulation and interpretation of numerical data.\"\n",
        "    ]"
      ],
      "metadata": {
        "id": "Ai5hmxwi5mCI"
      },
      "execution_count": null,
      "outputs": []
    },
    {
      "cell_type": "code",
      "source": [
        "for q in quotes:\n",
        "    seq = q[:40].lower()\n",
        "    print(seq)\n",
        "    print(predict_completions(seq, 5))\n",
        "    print()"
      ],
      "metadata": {
        "colab": {
          "base_uri": "https://localhost:8080/"
        },
        "id": "2ho9l_755tFN",
        "outputId": "178bb926-af5e-44e7-bcea-13ed7ed4b293"
      },
      "execution_count": null,
      "outputs": [
        {
          "output_type": "stream",
          "name": "stdout",
          "text": [
            "it is not a lack of  love, but a  lack o\n",
            "['f ', 'ver ', 'ut ', 'r ', 'nly ']\n",
            "\n",
            "recurrent neural network (rnn)is a type \n",
            "['to ', 'of ', 'whole ', 'in ', 'had ']\n",
            "\n",
            "machine learning is the science of getti\n",
            "['ng ', 's ', 'ons ', 'mation ', 'c ']\n",
            "\n",
            "deep learning is subset of machine learn\n",
            "['ing ', 'ster ', 'y. ', 'ed ', '. ']\n",
            "\n",
            "the goal of ai is to  make a  compter li\n",
            "['ttle ', 'ght, ', 'me ', 'fe ', 'ne ']\n",
            "\n",
            "statistics are defined as numerical data\n",
            "['rd ', 'nce ', 'ges ', 'intions ', 'lly ']\n",
            "\n"
          ]
        }
      ]
    }
  ]
}